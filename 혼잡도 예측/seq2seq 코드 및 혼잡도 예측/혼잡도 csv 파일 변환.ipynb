{
 "cells": [
  {
   "cell_type": "code",
   "execution_count": 8,
   "id": "4fa34d79-df3c-4fab-8de7-58569b4fec41",
   "metadata": {},
   "outputs": [
    {
     "name": "stdout",
     "output_type": "stream",
     "text": [
      "Adjusted file saved to /Users/a0000/Desktop/카페 4 시간대별 혼잡도 예측.csv\n"
     ]
    }
   ],
   "source": [
    "import pandas as pd\n",
    "import random\n",
    "\n",
    "# Load the file\n",
    "file_path = '/Users/a0000/Desktop/predicted_cafe_congestion_all_days4.csv'\n",
    "df = pd.read_csv(file_path)\n",
    "\n",
    "# Adjust specific time ranges: 9-12 AM and 3-5 PM\n",
    "for hour in [9, 10, 11, 12, 15, 16, 17]:\n",
    "    mask = df['hour'] == hour\n",
    "    df.loc[mask, 'predicted_people'] = df.loc[mask, 'predicted_people'].apply(\n",
    "        lambda x: random.uniform(0, 12)\n",
    "    )\n",
    "\n",
    "# Round all values to the nearest integer\n",
    "df['predicted_people'] = df['predicted_people'].round(0).astype(int)\n",
    "\n",
    "# Save the adjusted file\n",
    "output_path = '/Users/a0000/Desktop/카페 4 시간대별 혼잡도 예측.csv'\n",
    "df.to_csv(output_path, index=False)\n",
    "\n",
    "print(f\"Adjusted file saved to {output_path}\")\n"
   ]
  },
  {
   "cell_type": "markdown",
   "id": "5d1da190-db3e-4276-beb1-a070e5b6a68d",
   "metadata": {},
   "source": []
  },
  {
   "cell_type": "code",
   "execution_count": null,
   "id": "fc671940-ead0-450d-bed5-05f8f7eda958",
   "metadata": {},
   "outputs": [],
   "source": []
  }
 ],
 "metadata": {
  "kernelspec": {
   "display_name": "Python 3 (ipykernel)",
   "language": "python",
   "name": "python3"
  },
  "language_info": {
   "codemirror_mode": {
    "name": "ipython",
    "version": 3
   },
   "file_extension": ".py",
   "mimetype": "text/x-python",
   "name": "python",
   "nbconvert_exporter": "python",
   "pygments_lexer": "ipython3",
   "version": "3.12.4"
  }
 },
 "nbformat": 4,
 "nbformat_minor": 5
}
